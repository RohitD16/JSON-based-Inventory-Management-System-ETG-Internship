{
 "cells": [
  {
   "cell_type": "markdown",
   "id": "737b2a8f",
   "metadata": {},
   "source": [
    "# JSON based Inventory Management System\n",
    "\n",
    "## 1. Admin Controls\n",
    "\n",
    "##### - Rohit Dale"
   ]
  },
  {
   "cell_type": "code",
   "execution_count": null,
   "id": "534a5c7d",
   "metadata": {},
   "outputs": [],
   "source": [
    "import json"
   ]
  },
  {
   "cell_type": "markdown",
   "id": "b1f3970d",
   "metadata": {},
   "source": [
    "### #  OPENING JSON FILE :"
   ]
  },
  {
   "cell_type": "code",
   "execution_count": null,
   "id": "2b1ae2a2",
   "metadata": {},
   "outputs": [],
   "source": [
    "js = open('inventory.json', 'r')\n",
    "f = js.read()\n",
    "js.close()\n",
    "\n",
    "inventory = json.loads(f)"
   ]
  },
  {
   "cell_type": "markdown",
   "id": "765a4bbf",
   "metadata": {},
   "source": [
    "### #  FUNCTION TO SEE INVENTORY :"
   ]
  },
  {
   "cell_type": "code",
   "execution_count": null,
   "id": "b681847b",
   "metadata": {},
   "outputs": [],
   "source": [
    "def show_inventory(inventory):\n",
    "    print('### INVENTORY:')\n",
    "    print('*Mentioned Prices are in INR(Rs.) and Discounts in Percentage(%).')\n",
    "    for k, v in inventory.items():\n",
    "        print()\n",
    "        print('ID:', k)\n",
    "        for y, z in v.items():\n",
    "            print(f\"{y}: {z}\")"
   ]
  },
  {
   "cell_type": "markdown",
   "id": "e608ab3f",
   "metadata": {},
   "source": [
    "### #  FUNCTION TO UPDATE INVENTORY :"
   ]
  },
  {
   "cell_type": "code",
   "execution_count": null,
   "id": "7d002b87",
   "metadata": {},
   "outputs": [],
   "source": [
    "def update_inventory(inventory):\n",
    "    inventory = json.dumps(inventory)\n",
    "    js = open('inventory.json', 'w')\n",
    "    js.write(inventory)\n",
    "    js.close()\n",
    "    print()\n",
    "    print('INVENTORY UPDATED!')"
   ]
  },
  {
   "cell_type": "markdown",
   "id": "2efa0195",
   "metadata": {},
   "source": [
    "### #  ADDING NEW PRODUCTS TO INVENTORY :"
   ]
  },
  {
   "cell_type": "code",
   "execution_count": null,
   "id": "a4b76716",
   "metadata": {},
   "outputs": [],
   "source": [
    "def add_product(inventory):\n",
    "    product_id = input('Enter Product ID: ')\n",
    "    product_name = input('Enter Product Name: ')\n",
    "    product_price = float(input('Enter Product Price (Rs.): '))\n",
    "    product_quantity = int(input('Enter Product Quantity: '))\n",
    "    product_discount = float(input('Enter Product Discount (%): '))\n",
    "    \n",
    "    inventory[product_id] = {'NAME': product_name, 'PRICE': product_price, 'QUANTITY': product_quantity, 'DISCOUNT': product_discount}\n",
    "    \n",
    "    print()\n",
    "    print('New Product Added to Inventory!')\n",
    "    print(f\"\"\"Added Product => ID: {product_id}\n",
    "                 NAME: {inventory[product_id]['NAME']}\n",
    "                 PRICE: Rs.{inventory[product_id]['PRICE']}\n",
    "                 QUANTITY: {inventory[product_id]['QUANTITY']}\n",
    "                 DISCOUNT: {inventory[product_id]['DISCOUNT']}%\"\"\")\n",
    "    \n",
    "    update_inventory(inventory)"
   ]
  },
  {
   "cell_type": "markdown",
   "id": "4fc93fc9",
   "metadata": {},
   "source": [
    "\n",
    "### Removing Products from Inventory:"
   ]
  },
  {
   "cell_type": "code",
   "execution_count": null,
   "id": "bf504e8a",
   "metadata": {},
   "outputs": [],
   "source": [
    "def remove_product(inventory):\n",
    "    print()\n",
    "    product_id = input('Enter Product ID: ')\n",
    "\n",
    "    print()\n",
    "    print('Product Removed from Inventory!')\n",
    "    print(f\"\"\"Removed Product => ID: {product_id}\n",
    "                   NAME: {inventory[product_id]['NAME']}\n",
    "                   PRICE: Rs.{inventory[product_id]['PRICE']}\n",
    "                   QUANTITY: {inventory[product_id]['QUANTITY']}\n",
    "                   DISCOUNT: {inventory[product_id]['DISCOUNT']}%\"\"\")\n",
    "    \n",
    "    inventory.pop(product_id)\n",
    "    \n",
    "    update_inventory(inventory)"
   ]
  },
  {
   "cell_type": "markdown",
   "id": "1a24e960",
   "metadata": {},
   "source": [
    "\n",
    "\n",
    "### Editing Products in Inventory:"
   ]
  },
  {
   "cell_type": "code",
   "execution_count": null,
   "id": "1b3bdfe5",
   "metadata": {},
   "outputs": [],
   "source": [
    "def edit_product(inventory):\n",
    "    print()\n",
    "    product_id = input('Enter Product ID: ')\n",
    "    attribute = input('Enter Attribute to be Edited: ').upper()\n",
    "    print()\n",
    "    print('Selected Product ID =>', product_id)\n",
    "    print('Attribute to be Edited =>', attribute + ':', inventory[product_id][attribute])\n",
    "    change = input('Enter Changed Value for above Attribute: ')\n",
    "\n",
    "    if attribute == 'PRICE' or attribute == 'DISCOUNT':\n",
    "        change = float(change)\n",
    "    elif attribute == 'QUANTITY':\n",
    "        change = int(change)\n",
    "\n",
    "    inventory[product_id][attribute] = change\n",
    "    \n",
    "    print()\n",
    "    print('Product Edited Successfully!')\n",
    "    print(f\"\"\"Edited Product => ID: {product_id}\n",
    "                  NAME: {inventory[product_id]['NAME']}\n",
    "                  Edited {attribute}: {inventory[product_id][attribute]}\"\"\")\n",
    "    print('*Mentioned Price is in INR(Rs.) and Discount in Percentage(%).')\n",
    "    \n",
    "    update_inventory(inventory)"
   ]
  },
  {
   "cell_type": "markdown",
   "id": "15e7deb1",
   "metadata": {},
   "source": [
    "### #  EXECUTE ALL THE CELLS ABOVE AND THEN START FROM HERE :\n"
   ]
  },
  {
   "cell_type": "code",
   "execution_count": null,
   "id": "bd5d09cc",
   "metadata": {},
   "outputs": [],
   "source": [
    "print('Welcome to Admin Mode! Admin Commands are as follows-')\n",
    "print('1. show => To see Inventory')\n",
    "print('2. add => To Add New Product to Inventory')\n",
    "print('3. remove => To Remove Product from Inventory')\n",
    "print('4. edit => To Edit Product from Inventory')\n",
    "print('5. update => To Update Inventory')\n",
    "print('*INVENTORY GETS UPDATED AUTOMATICALLY AFTER EXECUTION OF A COMMAND')\n",
    "print()\n",
    "\n",
    "command = input('Enter Admin Command: ').lower()\n",
    "\n",
    "if command == 'show':\n",
    "    show_inventory(inventory)\n",
    "elif command == 'add':\n",
    "    add_product(inventory)\n",
    "elif command == 'remove':\n",
    "    remove_product(inventory)\n",
    "elif command == 'edit':\n",
    "    edit_product(inventory)\n",
    "elif command == 'update':\n",
    "    update_inventory(inventory)\n",
    "else:\n",
    "    print()\n",
    "    print('INVALID COMMAND! PLEASE TRY AGAIN.')"
   ]
  },
  {
   "cell_type": "code",
   "execution_count": null,
   "id": "d1efca01",
   "metadata": {},
   "outputs": [],
   "source": []
  }
 ],
 "metadata": {
  "kernelspec": {
   "display_name": "Python 3",
   "language": "python",
   "name": "python3"
  },
  "language_info": {
   "codemirror_mode": {
    "name": "ipython",
    "version": 3
   },
   "file_extension": ".py",
   "mimetype": "text/x-python",
   "name": "python",
   "nbconvert_exporter": "python",
   "pygments_lexer": "ipython3",
   "version": "3.8.8"
  }
 },
 "nbformat": 4,
 "nbformat_minor": 5
}
