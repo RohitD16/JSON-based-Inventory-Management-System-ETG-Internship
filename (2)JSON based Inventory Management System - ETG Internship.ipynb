{
 "cells": [
  {
   "cell_type": "markdown",
   "id": "6ca173f3",
   "metadata": {},
   "source": [
    "# JSON based Inventory Management System\n",
    "\n",
    "## 2. User Control\n",
    "\n",
    "##### - Rohit Dale"
   ]
  },
  {
   "cell_type": "code",
   "execution_count": null,
   "id": "ceaf50f9",
   "metadata": {},
   "outputs": [],
   "source": [
    "import json"
   ]
  },
  {
   "cell_type": "markdown",
   "id": "7cf516b6",
   "metadata": {},
   "source": [
    "### #  OPENING JSON FILE:"
   ]
  },
  {
   "cell_type": "code",
   "execution_count": null,
   "id": "8d2787ec",
   "metadata": {},
   "outputs": [],
   "source": [
    "js = open('inventory.json', 'r')\n",
    "f = js.read()\n",
    "inventory = json.loads(f)\n",
    "js.close()"
   ]
  },
  {
   "cell_type": "markdown",
   "id": "e9a618b1",
   "metadata": {},
   "source": [
    "### #  FUNCTION TO SEE INVENTORY:"
   ]
  },
  {
   "cell_type": "code",
   "execution_count": null,
   "id": "9805a733",
   "metadata": {},
   "outputs": [],
   "source": [
    "def show_inventory(inventory):\n",
    "    print('### INVENTORY:')\n",
    "    print('*Mentioned Prices are in INR(Rs.) and Discounts in Percentage(%).')\n",
    "    for k, v in inventory.items():\n",
    "        print()\n",
    "        print('ID:', k)\n",
    "        for y, z in v.items():\n",
    "            print(f\"{y}: {z}\")"
   ]
  },
  {
   "cell_type": "markdown",
   "id": "6e6c0fc0",
   "metadata": {},
   "source": [
    "### #  FUNCTION TO GENERATE BILL:"
   ]
  },
  {
   "cell_type": "code",
   "execution_count": null,
   "id": "e2c26b2e",
   "metadata": {},
   "outputs": [],
   "source": [
    "def generate_bill(inventory, amount, product_id, quantity):\n",
    "    print()\n",
    "    print('************ ************* ************')\n",
    "    print()\n",
    "    print('# YOUR BILL:')\n",
    "    print()\n",
    "    print('ID:', product_id)\n",
    "    print('NAME:', inventory[product_id]['NAME'])\n",
    "    print('QUANTITY PURCHASED:', quantity)\n",
    "    print('TOTAL AMOUNT => Rs.' + str(inventory[product_id]['PRICE'] * quantity))\n",
    "    print('DISCOUNTED AMOUNT => Rs.' + str(inventory[product_id]['PRICE'] * quantity * inventory[product_id]['DISCOUNT'] / 100))\n",
    "    print('--------------------------------------')\n",
    "    print('TOTAL AMOUNT TO BE PAID => Rs.' + str(amount))\n",
    "    print()\n",
    "    print('THANKS FOR SHOPPING HERE! HOPE TO SEE YOU SOON!')\n",
    "    print('************ ************* ************')"
   ]
  },
  {
   "cell_type": "markdown",
   "id": "5dfe71d9",
   "metadata": {},
   "source": [
    "### #  FUNCTION TO UPDATE INVENTORY :"
   ]
  },
  {
   "cell_type": "code",
   "execution_count": null,
   "id": "34130b8a",
   "metadata": {},
   "outputs": [],
   "source": [
    "def update_inventory(inventory):\n",
    "    inventory = json.dumps(inventory)\n",
    "    js = open('inventory.json', 'w')\n",
    "    js.write(inventory)\n",
    "    js.close()"
   ]
  },
  {
   "cell_type": "markdown",
   "id": "71b88689",
   "metadata": {},
   "source": [
    "### #  FUNCTION TO PURCHASE PRODUCT:"
   ]
  },
  {
   "cell_type": "code",
   "execution_count": null,
   "id": "0d0f41cd",
   "metadata": {},
   "outputs": [],
   "source": [
    "def purchase_product(inventory):\n",
    "    show_inventory(inventory)\n",
    "    print()\n",
    "    product_id = input('Enter the Product ID You Want to Purchase: ')\n",
    "    print()\n",
    "    print(f\"\"\"Selected Product => ID: {product_id}\n",
    "                 NAME: {inventory[product_id]['NAME']}\n",
    "                 PRICE: Rs.{inventory[product_id]['PRICE']}\n",
    "                 AVAILABLE QUANTITY: {inventory[product_id]['QUANTITY']}\n",
    "                 DISCOUNT: {inventory[product_id]['DISCOUNT']}%\"\"\")\n",
    "    quantity = int(input(f\"How Much of {inventory[product_id]['NAME']}s You Want to Purchase? \"))\n",
    "    \n",
    "    if 1 <= quantity <= inventory[product_id]['QUANTITY']:\n",
    "        inventory[product_id]['QUANTITY'] -= quantity\n",
    "        amount = (inventory[product_id]['PRICE'] * quantity) - (inventory[product_id]['PRICE'] * quantity * inventory[product_id]['DISCOUNT'] / 100)\n",
    "        \n",
    "        generate_bill(inventory, amount, product_id, quantity)\n",
    "        update_inventory(inventory)\n",
    "        \n",
    "    else:\n",
    "        print()\n",
    "        print('ERROR: ENTERED QUANTITY IS NOT VALID! PLEASE TRY AGAIN.')"
   ]
  },
  {
   "cell_type": "markdown",
   "id": "8257d568",
   "metadata": {},
   "source": [
    "### #  EXECUTE ALL THE CELLS ABOVE AND THEN START FROM HERE :"
   ]
  },
  {
   "cell_type": "code",
   "execution_count": null,
   "id": "9eba240e",
   "metadata": {},
   "outputs": [],
   "source": [
    "print('Welcome to User Mode! User Commands are as follows-')\n",
    "print('1. show => To see Inventory')\n",
    "print('2. purchase => To Add New Product to Inventory')\n",
    "print()\n",
    "\n",
    "command = input('Enter User Command: ').lower()\n",
    "\n",
    "if command == 'show':\n",
    "    show_inventory(inventory)\n",
    "elif command == 'purchase':\n",
    "    purchase_product(inventory)\n",
    "else:\n",
    "    print()\n",
    "    print('INVALID COMMAND! PLEASE TRY AGAIN.')"
   ]
  }
 ],
 "metadata": {
  "kernelspec": {
   "display_name": "Python 3",
   "language": "python",
   "name": "python3"
  },
  "language_info": {
   "codemirror_mode": {
    "name": "ipython",
    "version": 3
   },
   "file_extension": ".py",
   "mimetype": "text/x-python",
   "name": "python",
   "nbconvert_exporter": "python",
   "pygments_lexer": "ipython3",
   "version": "3.8.8"
  }
 },
 "nbformat": 4,
 "nbformat_minor": 5
}
